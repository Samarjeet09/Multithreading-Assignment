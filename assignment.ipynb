{
 "cells": [
  {
   "cell_type": "code",
   "execution_count": 1,
   "metadata": {},
   "outputs": [],
   "source": [
    "import os\n",
    "import sys\n",
    "import platform\n",
    "import numpy as np\n",
    "import pandas as pd\n",
    "import time\n",
    "import matplotlib.pyplot as plt\n",
    "import multiprocessing"
   ]
  },
  {
   "cell_type": "code",
   "execution_count": 2,
   "metadata": {},
   "outputs": [],
   "source": [
    "def generate_random_matrices(num_matrices, matrix_size):\n",
    "    return [np.random.rand(matrix_size, matrix_size) for _ in range(num_matrices)]\n",
    "\n",
    "def multiply_matrices_process(matrix_chunk, constant_matrix):\n",
    "    result = constant_matrix.copy()\n",
    "    for matrix in matrix_chunk:\n",
    "        result = np.dot(result, matrix)\n",
    "    return result\n",
    "\n",
    "def perform_multiplication_with_processes(num_processes, matrices, constant_matrix):\n",
    "    start_time = time.time()\n",
    "    chunk_size = len(matrices) // num_processes\n",
    "    with multiprocessing.Pool(processes=num_processes) as pool:\n",
    "        result = pool.starmap(multiply_matrices_process, [(matrices[i:i+chunk_size], constant_matrix) for i in range(0, len(matrices), chunk_size)])\n",
    "    end_time = time.time()\n",
    "    return end_time - start_time\n"
   ]
  },
  {
   "cell_type": "code",
   "execution_count": 3,
   "metadata": {},
   "outputs": [
    {
     "name": "stdout",
     "output_type": "stream",
     "text": [
      "20\n"
     ]
    }
   ],
   "source": [
    "\n",
    "num_matrices = 100\n",
    "matrix_size = 1000\n",
    "num_cores = multiprocessing.cpu_count()\n",
    "print(num_cores)"
   ]
  },
  {
   "cell_type": "code",
   "execution_count": 4,
   "metadata": {},
   "outputs": [],
   "source": [
    "matrices = generate_random_matrices(num_matrices, matrix_size)\n",
    "constant_matrix = np.random.rand(matrix_size, matrix_size)\n",
    "results = {}\n"
   ]
  },
  {
   "cell_type": "code",
   "execution_count": 5,
   "metadata": {},
   "outputs": [],
   "source": [
    "for num_processes in range(1, 5):\n",
    "    time_taken = perform_multiplication_with_processes(num_processes, matrices, constant_matrix)\n",
    "    results[num_processes] = time_taken\n",
    "    print(num_cores)\n"
   ]
  },
  {
   "cell_type": "code",
   "execution_count": null,
   "metadata": {},
   "outputs": [],
   "source": [
    "df = pd.DataFrame.from_dict(results, orient='index', columns=['Time Taken (s)'])\n",
    "df.index.name = 'Processes'\n",
    "\n",
    "df.plot()\n",
    "plt.xlabel('Number of Processes')\n",
    "plt.ylabel('Time Taken (s)')\n",
    "plt.title('Time Taken vs Number of Processes')\n",
    "plt.show()"
   ]
  }
 ],
 "metadata": {
  "kernelspec": {
   "display_name": "test",
   "language": "python",
   "name": "python3"
  },
  "language_info": {
   "codemirror_mode": {
    "name": "ipython",
    "version": 3
   },
   "file_extension": ".py",
   "mimetype": "text/x-python",
   "name": "python",
   "nbconvert_exporter": "python",
   "pygments_lexer": "ipython3",
   "version": "3.10.11"
  }
 },
 "nbformat": 4,
 "nbformat_minor": 2
}
