{
 "cells": [
  {
   "cell_type": "code",
   "execution_count": 9,
   "metadata": {},
   "outputs": [],
   "source": [
    "import threading\n",
    "import time"
   ]
  },
  {
   "cell_type": "code",
   "execution_count": 8,
   "metadata": {},
   "outputs": [
    {
     "data": {
      "text/plain": [
       "6"
      ]
     },
     "execution_count": 8,
     "metadata": {},
     "output_type": "execute_result"
    }
   ],
   "source": [
    "threading.active_count()"
   ]
  },
  {
   "cell_type": "code",
   "execution_count": 11,
   "metadata": {},
   "outputs": [],
   "source": [
    "def f(a:int):\n",
    "    print(\"Thread Started\")\n",
    "    for i in range(a):\n",
    "        print(\"thread running for {}\".format(i))\n",
    "        time.sleep(1)\n",
    "    print(\"Thread Finished\")"
   ]
  },
  {
   "cell_type": "code",
   "execution_count": 18,
   "metadata": {},
   "outputs": [],
   "source": [
    "ref = threading.Thread(target=f,args=(20,))    "
   ]
  },
  {
   "cell_type": "code",
   "execution_count": 19,
   "metadata": {},
   "outputs": [
    {
     "name": "stdout",
     "output_type": "stream",
     "text": [
      "6\n",
      "Thread Started\n",
      "my code is running\n",
      "hello\n",
      "7\n",
      "Thread Finished\n",
      "6\n"
     ]
    }
   ],
   "source": [
    "print(threading.active_count())\n",
    "ref.start()\n",
    "print('my code is running')\n",
    "print(\"hello\")\n",
    "print(threading.active_count())\n",
    "ref.join()\n",
    "print(threading.active_count())"
   ]
  },
  {
   "cell_type": "code",
   "execution_count": 109,
   "metadata": {},
   "outputs": [],
   "source": [
    "import numpy as np\n",
    "MAT_SIZE:int = 5000\n",
    "a = np.random.randint(low = -1e9,high= 1e9,size = (MAT_SIZE,MAT_SIZE))\n",
    "b = np.random.randint(low = -1e9,high= 1e9,size = (MAT_SIZE,MAT_SIZE))"
   ]
  },
  {
   "cell_type": "code",
   "execution_count": 110,
   "metadata": {},
   "outputs": [
    {
     "data": {
      "text/plain": [
       "array([[ 1983666508,   -91251060,   578330756, ...,   242594220,\n",
       "        -1426492318,   638852036],\n",
       "       [ 2017150011,  -231144532,  1808347244, ..., -1779773315,\n",
       "         2058368096, -2027977132],\n",
       "       [ 1733796608, -1046018127,   -73227176, ...,  -789616715,\n",
       "         1909222920,  -691062912],\n",
       "       ...,\n",
       "       [ 1980631600,  -238643648,  1130856154, ...,   893032275,\n",
       "        -2136826453, -1753635712],\n",
       "       [  285723750,   -71068760,   165445240, ...,  1151223518,\n",
       "          790207948,  1168927427],\n",
       "       [ -766563070,  1894317940,   158259150, ..., -1209875032,\n",
       "         2090986698,  -110052324]])"
      ]
     },
     "execution_count": 110,
     "metadata": {},
     "output_type": "execute_result"
    }
   ],
   "source": [
    "a*b"
   ]
  }
 ],
 "metadata": {
  "kernelspec": {
   "display_name": "test",
   "language": "python",
   "name": "python3"
  },
  "language_info": {
   "codemirror_mode": {
    "name": "ipython",
    "version": 3
   },
   "file_extension": ".py",
   "mimetype": "text/x-python",
   "name": "python",
   "nbconvert_exporter": "python",
   "pygments_lexer": "ipython3",
   "version": "3.10.11"
  }
 },
 "nbformat": 4,
 "nbformat_minor": 2
}
